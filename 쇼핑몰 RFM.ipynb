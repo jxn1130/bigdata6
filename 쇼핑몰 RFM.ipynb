{
 "cells": [
  {
   "cell_type": "markdown",
   "metadata": {},
   "source": [
    "## [필수 분석]\n",
    "\n",
    "입점 기업별 RFM 분석(3그룹) 진행\n",
    "\n",
    "매출 시각화\n",
    "\n",
    "    -월별, 연도별 매출\n",
    "\n",
    "    -월별 순수익 (처리 상황, 할부기간\n",
    "고려)\n",
    "\n",
    "결제 방법에 따른 분석\n",
    "\n",
    "결제 방법과 결제금액의 연관성\n",
    "분석\n",
    "\n",
    "결제방법은 맨 앞의 한가지만\n",
    "사용한 것으로 간주\n",
    "\n",
    "\n",
    "### [선택 분석]\n",
    "\n",
    "매출 시각화 2\n",
    "\n",
    "최대 매출 상품 3종류 집계\n",
    "\n",
    "주문 연도에 따른 해당 상품의\n",
    "매출 증감 분석\n",
    "\n",
    "연관성 분석\n",
    "\n",
    "주문한 달과 판매금액의\n",
    "상관관계 분석\n",
    "\n",
    "※ 연도의 변화는 무시한다"
   ]
  },
  {
   "cell_type": "code",
   "execution_count": null,
   "metadata": {},
   "outputs": [],
   "source": [
    "import pandas as pd\n",
    "\n",
    "df = pd.read_excel('../../Downloads/미니프로젝트-쇼핑몰 실습데이터.xlsx')\n",
    "# '판매금액', '업체명', '주문일자' 열에 대한 결측치를 모두 제거\n",
    "df2 = df.dropna(subset=['판매금액', '업체명', '주문일자', '결제방법'])\n",
    "# '지니 태블릿(후불집행)'을 '지니'로 변경\n",
    "df2.loc[df2['업체명'] == '지니 태블릿(후불집행)', '업체명'] = '지니'\n",
    "\n",
    "# '지니 태블릿'을 '지니'로 변경\n",
    "df2.loc[df2['업체명'] == '지니 태블릿', '업체명'] = '지니'"
   ]
  },
  {
   "cell_type": "code",
   "execution_count": null,
   "metadata": {},
   "outputs": [],
   "source": [
    "import pandas as pd\n",
    "\n",
    "\n",
    "# '결제방법' 열 값 변경\n",
    "df2['결제방법'] = df2['결제방법'].replace({'가상계좌':'현금','무통장입금': '현금','현금간편결제': '현금','웰컴마일':'적립금'})"
   ]
  },
  {
   "cell_type": "code",
   "execution_count": null,
   "metadata": {},
   "outputs": [],
   "source": [
    "# '결제방법' 열에서 앞글자만 추출하여 새로운 열 만들기\n",
    "df2['앞글자'] = df2['결제방법'].apply(lambda x: x[0] if isinstance(x, str) and len(x) > 0 else None)\n",
    "\n",
    "# 결과 출력\n",
    "print(df2[['결제방법', '앞글자']])\n",
    "\n",
    "# '결제방법'이 \"-\"인 행 제거\n",
    "df2 = df2[df2['앞글자'] != ' ']\n",
    "df2 = df2[df2['앞글자'] != '-']\n",
    "df2 = df2[df2['앞글자'] != '정']\n",
    "df2 = df2[df2['앞글자'] != '후']\n",
    "\n",
    "# 결과 출력\n",
    "df2['앞글자'].unique()"
   ]
  },
  {
   "cell_type": "code",
   "execution_count": null,
   "metadata": {},
   "outputs": [],
   "source": [
    "df2['앞글자'] = df2['앞글자'].replace('신', '신용카드')\n",
    "df2['앞글자'] = df2['앞글자'].replace('현', '현금')\n",
    "df2['앞글자'] = df2['앞글자'].replace('적', '적립금')\n",
    "df2['앞글자'] = df2['앞글자'].replace('포', '포인트')"
   ]
  },
  {
   "cell_type": "code",
   "execution_count": null,
   "metadata": {},
   "outputs": [],
   "source": [
    "import matplotlib.pyplot as plt\n",
    "plt.rcParams['font.family'] = 'Malgun Gothic'\n",
    "\n",
    "# 결제방법별로 금액 합산\n",
    "payment = df2.groupby('앞글자')['판매금액'].sum()\n",
    "\n",
    "# 파이 차트 그리기\n",
    "custom_colors = ['blue','green','red','orange']\n",
    "plt.pie(payment, labels=payment.index, autopct='%1.1f%%', startangle=30, colors=custom_colors)\n",
    "plt.title('결제방법별 금액 분포')\n",
    "plt.show()"
   ]
  },
  {
   "cell_type": "code",
   "execution_count": null,
   "metadata": {},
   "outputs": [],
   "source": [
    "# 결제방법별 판매금액 평균 계산\n",
    "average_payment = df2.groupby('앞글자')['판매금액'].mean().reset_index()\n",
    "\n",
    "# 막대그래프 그리기\n",
    "custom_colors = ['#1f77b4', '#ff7f0e', '#2ca02c', '#d62728']\n",
    "plt.bar(average_payment['앞글자'], average_payment['판매금액'], color=custom_colors)\n",
    "plt.title('결제방법별 평균 판매금액')\n",
    "plt.xlabel('결제방법')\n",
    "plt.ylabel('평균 금액')\n",
    "plt.show()"
   ]
  },
  {
   "cell_type": "code",
   "execution_count": null,
   "metadata": {},
   "outputs": [],
   "source": [
    "# 각 결제방법별로 상위 10개 행 추출\n",
    "top_10_by_payment_method = df2.groupby('앞글자').apply(lambda group: group.nlargest(1000, '판매금액')).reset_index(drop=True)\n",
    "\n",
    "# 각 결제방법별 '판매금액'의 평균 계산\n",
    "average_sales_by_payment_method = top_10_by_payment_method.groupby('앞글자')['판매금액'].mean().reset_index()\n",
    "\n",
    "# 결과 출력\n",
    "print(average_sales_by_payment_method)\n"
   ]
  },
  {
   "cell_type": "code",
   "execution_count": null,
   "metadata": {},
   "outputs": [],
   "source": [
    "# 판매금액이 0이 아닌 데이터프레임 생성\n",
    "nz_df2 = df2[df2['판매금액'] != 0]\n",
    "\n",
    "# 각 결제방법별로 하위 10개 행 추출\n",
    "bottom_10_by_payment_method = nz_df2.groupby('앞글자').apply(lambda group: group.nsmallest(1000, '판매금액')).reset_index(drop=True)\n",
    "\n",
    "# 각 결제방법별 '판매금액'의 평균 계산\n",
    "average_sales_bottom_10_by_payment_method = bottom_10_by_payment_method.groupby('앞글자')['판매금액'].mean().reset_index()\n",
    "\n",
    "# 결과 출력\n",
    "print(average_sales_bottom_10_by_payment_method)"
   ]
  },
  {
   "cell_type": "code",
   "execution_count": null,
   "metadata": {},
   "outputs": [],
   "source": []
  }
 ],
 "metadata": {
  "language_info": {
   "name": "python"
  }
 },
 "nbformat": 4,
 "nbformat_minor": 2
}
