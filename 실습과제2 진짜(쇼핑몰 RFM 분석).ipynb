{
 "cells": [
  {
   "cell_type": "code",
   "execution_count": 1,
   "id": "5047ee25",
   "metadata": {},
   "outputs": [],
   "source": [
    "import pandas as pd\n",
    "\n",
    "df = pd.read_excel(\"C:/Users/minsu/Downloads/미니프로젝트-쇼핑몰 실습데이터.xlsx\")\n",
    "# '판매금액', '업체명', '주문일자' 열에 대한 결측치를 모두 제거\n",
    "df2 = df.dropna(subset=['판매금액', '업체명', '주문일자', '결제방법'])\n",
    "# '지니 태블릿(후불집행)'을 '지니'로 변경\n",
    "df2.loc[df2['업체명'] == '지니 태블릿(후불집행)', '업체명'] = '지니'\n",
    "\n",
    "# '지니 태블릿'을 '지니'로 변경\n",
    "df2.loc[df2['업체명'] == '지니 태블릿', '업체명'] = '지니'\n"
   ]
  },
  {
   "cell_type": "code",
   "execution_count": 2,
   "id": "c42d8346",
   "metadata": {},
   "outputs": [
    {
     "name": "stderr",
     "output_type": "stream",
     "text": [
      "C:\\Users\\minsu\\AppData\\Local\\Temp\\ipykernel_21876\\3775950332.py:5: SettingWithCopyWarning: \n",
      "A value is trying to be set on a copy of a slice from a DataFrame.\n",
      "Try using .loc[row_indexer,col_indexer] = value instead\n",
      "\n",
      "See the caveats in the documentation: https://pandas.pydata.org/pandas-docs/stable/user_guide/indexing.html#returning-a-view-versus-a-copy\n",
      "  df2['결제방법'] = df2['결제방법'].replace({'가상계좌':'현금','무통장입금': '현금','현금간편결제': '현금','웰컴마일':'적립금'})\n"
     ]
    }
   ],
   "source": [
    "import pandas as pd\n",
    "\n",
    "\n",
    "# '결제방법' 열 값 변경\n",
    "df2['결제방법'] = df2['결제방법'].replace({'가상계좌':'현금','무통장입금': '현금','현금간편결제': '현금','웰컴마일':'적립금'})\n"
   ]
  },
  {
   "cell_type": "code",
   "execution_count": 3,
   "id": "f6cefa02",
   "metadata": {},
   "outputs": [
    {
     "name": "stderr",
     "output_type": "stream",
     "text": [
      "C:\\Users\\minsu\\AppData\\Local\\Temp\\ipykernel_21876\\3605591734.py:2: SettingWithCopyWarning: \n",
      "A value is trying to be set on a copy of a slice from a DataFrame.\n",
      "Try using .loc[row_indexer,col_indexer] = value instead\n",
      "\n",
      "See the caveats in the documentation: https://pandas.pydata.org/pandas-docs/stable/user_guide/indexing.html#returning-a-view-versus-a-copy\n",
      "  df2['앞글자'] = df2['결제방법'].apply(lambda x: x[0] if isinstance(x, str) and len(x) > 0 else None)\n"
     ]
    },
    {
     "name": "stdout",
     "output_type": "stream",
     "text": [
      "         결제방법 앞글자\n",
      "0        신용카드   신\n",
      "1        신용카드   신\n",
      "2        신용카드   신\n",
      "3        신용카드   신\n",
      "4        신용카드   신\n",
      "...       ...  ..\n",
      "218596    적립금   적\n",
      "218597    적립금   적\n",
      "218598  신 + 포   신\n",
      "218599    포인트   포\n",
      "218600   신용카드   신\n",
      "\n",
      "[218586 rows x 2 columns]\n"
     ]
    },
    {
     "data": {
      "text/plain": [
       "array(['신', '현', '포', '적'], dtype=object)"
      ]
     },
     "execution_count": 3,
     "metadata": {},
     "output_type": "execute_result"
    }
   ],
   "source": [
    "# '결제방법' 열에서 앞글자만 추출하여 새로운 열 만들기\n",
    "df2['앞글자'] = df2['결제방법'].apply(lambda x: x[0] if isinstance(x, str) and len(x) > 0 else None)\n",
    "\n",
    "# 결과 출력\n",
    "print(df2[['결제방법', '앞글자']])\n",
    "\n",
    "# '결제방법'이 \"-\"인 행 제거\n",
    "df2 = df2[df2['앞글자'] != ' ']\n",
    "df2 = df2[df2['앞글자'] != '-']\n",
    "df2 = df2[df2['앞글자'] != '정']\n",
    "df2 = df2[df2['앞글자'] != '후']\n",
    "\n",
    "# 결제 테스트인 행 제거\n",
    "df2 = df2[df2['업체명'] != '셀러테스트']\n",
    "\n",
    "# 결과 출력\n",
    "df2['앞글자'].unique()\n"
   ]
  },
  {
   "cell_type": "code",
   "execution_count": 4,
   "id": "e0ca4416",
   "metadata": {},
   "outputs": [
    {
     "data": {
      "text/html": [
       "<div>\n",
       "<style scoped>\n",
       "    .dataframe tbody tr th:only-of-type {\n",
       "        vertical-align: middle;\n",
       "    }\n",
       "\n",
       "    .dataframe tbody tr th {\n",
       "        vertical-align: top;\n",
       "    }\n",
       "\n",
       "    .dataframe thead th {\n",
       "        text-align: right;\n",
       "    }\n",
       "</style>\n",
       "<table border=\"1\" class=\"dataframe\">\n",
       "  <thead>\n",
       "    <tr style=\"text-align: right;\">\n",
       "      <th></th>\n",
       "      <th>주문번호</th>\n",
       "      <th>업체명</th>\n",
       "      <th>상품명</th>\n",
       "      <th>제조사</th>\n",
       "      <th>주문수량</th>\n",
       "      <th>판매금액</th>\n",
       "      <th>결제방법</th>\n",
       "      <th>주문일자</th>\n",
       "      <th>처리상태</th>\n",
       "      <th>초도상품</th>\n",
       "      <th>제작문구 내역</th>\n",
       "      <th>할부기간</th>\n",
       "    </tr>\n",
       "  </thead>\n",
       "  <tbody>\n",
       "    <tr>\n",
       "      <th>1288</th>\n",
       "      <td>200113163559158</td>\n",
       "      <td>셀러테스트</td>\n",
       "      <td>일반상품 테스트</td>\n",
       "      <td>천재</td>\n",
       "      <td>1</td>\n",
       "      <td>2000</td>\n",
       "      <td>가상계좌</td>\n",
       "      <td>2020-01-13 16:37:13</td>\n",
       "      <td>환불완료</td>\n",
       "      <td>N</td>\n",
       "      <td>NaN</td>\n",
       "      <td>NaN</td>\n",
       "    </tr>\n",
       "    <tr>\n",
       "      <th>1505</th>\n",
       "      <td>200117091325768</td>\n",
       "      <td>셀러테스트</td>\n",
       "      <td>가상계좌 결제 테스트-현금영수증</td>\n",
       "      <td>일이삼사오</td>\n",
       "      <td>1</td>\n",
       "      <td>2000</td>\n",
       "      <td>신용카드</td>\n",
       "      <td>2020-01-17 09:14:40</td>\n",
       "      <td>주문취소</td>\n",
       "      <td>N</td>\n",
       "      <td>NaN</td>\n",
       "      <td>NaN</td>\n",
       "    </tr>\n",
       "    <tr>\n",
       "      <th>1506</th>\n",
       "      <td>200117091944180</td>\n",
       "      <td>셀러테스트</td>\n",
       "      <td>가상계좌 결제 테스트-현금영수증</td>\n",
       "      <td>일이삼사오</td>\n",
       "      <td>1</td>\n",
       "      <td>2000</td>\n",
       "      <td>신용카드</td>\n",
       "      <td>2020-01-17 09:21:00</td>\n",
       "      <td>주문취소</td>\n",
       "      <td>N</td>\n",
       "      <td>제작문구 넣어주세요</td>\n",
       "      <td>NaN</td>\n",
       "    </tr>\n",
       "    <tr>\n",
       "      <th>1508</th>\n",
       "      <td>200117101927908</td>\n",
       "      <td>셀러테스트</td>\n",
       "      <td>가상계좌 결제 테스트-현금영수증</td>\n",
       "      <td>일이삼사오</td>\n",
       "      <td>1</td>\n",
       "      <td>2000</td>\n",
       "      <td>신용카드</td>\n",
       "      <td>2020-01-17 10:20:42</td>\n",
       "      <td>주문취소</td>\n",
       "      <td>N</td>\n",
       "      <td>가나다라마바사아자차카</td>\n",
       "      <td>NaN</td>\n",
       "    </tr>\n",
       "    <tr>\n",
       "      <th>1682</th>\n",
       "      <td>200121110540917</td>\n",
       "      <td>셀러테스트</td>\n",
       "      <td>가상계좌 결제 테스트-현금영수증</td>\n",
       "      <td>일이삼사오</td>\n",
       "      <td>1</td>\n",
       "      <td>500</td>\n",
       "      <td>가상계좌</td>\n",
       "      <td>2020-01-21 11:06:57</td>\n",
       "      <td>환불완료</td>\n",
       "      <td>N</td>\n",
       "      <td>NaN</td>\n",
       "      <td>NaN</td>\n",
       "    </tr>\n",
       "    <tr>\n",
       "      <th>...</th>\n",
       "      <td>...</td>\n",
       "      <td>...</td>\n",
       "      <td>...</td>\n",
       "      <td>...</td>\n",
       "      <td>...</td>\n",
       "      <td>...</td>\n",
       "      <td>...</td>\n",
       "      <td>...</td>\n",
       "      <td>...</td>\n",
       "      <td>...</td>\n",
       "      <td>...</td>\n",
       "      <td>...</td>\n",
       "    </tr>\n",
       "    <tr>\n",
       "      <th>80243</th>\n",
       "      <td>210817142016333</td>\n",
       "      <td>셀러테스트</td>\n",
       "      <td>상담형 미결제상품</td>\n",
       "      <td>NaN</td>\n",
       "      <td>1</td>\n",
       "      <td>990000</td>\n",
       "      <td>-</td>\n",
       "      <td>2021-08-17 14:18:48</td>\n",
       "      <td>상담취소</td>\n",
       "      <td>N</td>\n",
       "      <td>NaN</td>\n",
       "      <td>NaN</td>\n",
       "    </tr>\n",
       "    <tr>\n",
       "      <th>80423</th>\n",
       "      <td>210818125409387</td>\n",
       "      <td>셀러테스트</td>\n",
       "      <td>상담형 미결제상품</td>\n",
       "      <td>NaN</td>\n",
       "      <td>1</td>\n",
       "      <td>990000</td>\n",
       "      <td>-</td>\n",
       "      <td>2021-08-18 12:52:42</td>\n",
       "      <td>상담취소</td>\n",
       "      <td>N</td>\n",
       "      <td>NaN</td>\n",
       "      <td>NaN</td>\n",
       "    </tr>\n",
       "    <tr>\n",
       "      <th>81115</th>\n",
       "      <td>210820120331467</td>\n",
       "      <td>셀러테스트</td>\n",
       "      <td>상담형 미결제상품</td>\n",
       "      <td>NaN</td>\n",
       "      <td>1</td>\n",
       "      <td>550000</td>\n",
       "      <td>-</td>\n",
       "      <td>2021-08-20 12:02:03</td>\n",
       "      <td>상담취소</td>\n",
       "      <td>N</td>\n",
       "      <td>NaN</td>\n",
       "      <td>NaN</td>\n",
       "    </tr>\n",
       "    <tr>\n",
       "      <th>81117</th>\n",
       "      <td>210820120725773</td>\n",
       "      <td>셀러테스트</td>\n",
       "      <td>상담형 미결제상품</td>\n",
       "      <td>NaN</td>\n",
       "      <td>1</td>\n",
       "      <td>550000</td>\n",
       "      <td>-</td>\n",
       "      <td>2021-08-20 12:05:57</td>\n",
       "      <td>상담취소</td>\n",
       "      <td>N</td>\n",
       "      <td>NaN</td>\n",
       "      <td>NaN</td>\n",
       "    </tr>\n",
       "    <tr>\n",
       "      <th>81120</th>\n",
       "      <td>210820123531991</td>\n",
       "      <td>셀러테스트</td>\n",
       "      <td>상담형 미결제상품</td>\n",
       "      <td>NaN</td>\n",
       "      <td>1</td>\n",
       "      <td>550000</td>\n",
       "      <td>-</td>\n",
       "      <td>2021-08-20 12:34:03</td>\n",
       "      <td>상담취소</td>\n",
       "      <td>N</td>\n",
       "      <td>NaN</td>\n",
       "      <td>NaN</td>\n",
       "    </tr>\n",
       "  </tbody>\n",
       "</table>\n",
       "<p>193 rows × 12 columns</p>\n",
       "</div>"
      ],
      "text/plain": [
       "                  주문번호    업체명                상품명    제조사  주문수량    판매금액  결제방법  \\\n",
       "1288   200113163559158  셀러테스트           일반상품 테스트     천재     1    2000  가상계좌   \n",
       "1505   200117091325768  셀러테스트  가상계좌 결제 테스트-현금영수증  일이삼사오     1    2000  신용카드   \n",
       "1506   200117091944180  셀러테스트  가상계좌 결제 테스트-현금영수증  일이삼사오     1    2000  신용카드   \n",
       "1508   200117101927908  셀러테스트  가상계좌 결제 테스트-현금영수증  일이삼사오     1    2000  신용카드   \n",
       "1682   200121110540917  셀러테스트  가상계좌 결제 테스트-현금영수증  일이삼사오     1     500  가상계좌   \n",
       "...                ...    ...                ...    ...   ...     ...   ...   \n",
       "80243  210817142016333  셀러테스트          상담형 미결제상품    NaN     1  990000     -   \n",
       "80423  210818125409387  셀러테스트          상담형 미결제상품    NaN     1  990000     -   \n",
       "81115  210820120331467  셀러테스트          상담형 미결제상품    NaN     1  550000     -   \n",
       "81117  210820120725773  셀러테스트          상담형 미결제상품    NaN     1  550000     -   \n",
       "81120  210820123531991  셀러테스트          상담형 미결제상품    NaN     1  550000     -   \n",
       "\n",
       "                     주문일자  처리상태 초도상품      제작문구 내역 할부기간  \n",
       "1288  2020-01-13 16:37:13  환불완료    N          NaN  NaN  \n",
       "1505  2020-01-17 09:14:40  주문취소    N          NaN  NaN  \n",
       "1506  2020-01-17 09:21:00  주문취소    N   제작문구 넣어주세요  NaN  \n",
       "1508  2020-01-17 10:20:42  주문취소    N  가나다라마바사아자차카  NaN  \n",
       "1682  2020-01-21 11:06:57  환불완료    N          NaN  NaN  \n",
       "...                   ...   ...  ...          ...  ...  \n",
       "80243 2021-08-17 14:18:48  상담취소    N          NaN  NaN  \n",
       "80423 2021-08-18 12:52:42  상담취소    N          NaN  NaN  \n",
       "81115 2021-08-20 12:02:03  상담취소    N          NaN  NaN  \n",
       "81117 2021-08-20 12:05:57  상담취소    N          NaN  NaN  \n",
       "81120 2021-08-20 12:34:03  상담취소    N          NaN  NaN  \n",
       "\n",
       "[193 rows x 12 columns]"
      ]
     },
     "execution_count": 4,
     "metadata": {},
     "output_type": "execute_result"
    }
   ],
   "source": [
    "df[df['업체명']=='셀러테스트']"
   ]
  },
  {
   "cell_type": "code",
   "execution_count": 5,
   "id": "a709473e",
   "metadata": {},
   "outputs": [],
   "source": [
    "df2['앞글자'] = df2['앞글자'].replace('신', '신용카드')\n",
    "df2['앞글자'] = df2['앞글자'].replace('현', '현금')\n",
    "df2['앞글자'] = df2['앞글자'].replace('적', '적립금')\n",
    "df2['앞글자'] = df2['앞글자'].replace('포', '포인트')"
   ]
  },
  {
   "cell_type": "code",
   "execution_count": 6,
   "id": "cf51c5b9",
   "metadata": {},
   "outputs": [
    {
     "data": {
      "text/html": [
       "<div>\n",
       "<style scoped>\n",
       "    .dataframe tbody tr th:only-of-type {\n",
       "        vertical-align: middle;\n",
       "    }\n",
       "\n",
       "    .dataframe tbody tr th {\n",
       "        vertical-align: top;\n",
       "    }\n",
       "\n",
       "    .dataframe thead th {\n",
       "        text-align: right;\n",
       "    }\n",
       "</style>\n",
       "<table border=\"1\" class=\"dataframe\">\n",
       "  <thead>\n",
       "    <tr style=\"text-align: right;\">\n",
       "      <th></th>\n",
       "      <th>주문번호</th>\n",
       "      <th>업체명</th>\n",
       "      <th>상품명</th>\n",
       "      <th>제조사</th>\n",
       "      <th>주문수량</th>\n",
       "      <th>판매금액</th>\n",
       "      <th>결제방법</th>\n",
       "      <th>주문일자</th>\n",
       "      <th>처리상태</th>\n",
       "      <th>초도상품</th>\n",
       "      <th>제작문구 내역</th>\n",
       "      <th>할부기간</th>\n",
       "      <th>앞글자</th>\n",
       "    </tr>\n",
       "  </thead>\n",
       "  <tbody>\n",
       "    <tr>\n",
       "      <th>218591</th>\n",
       "      <td>221108102949623</td>\n",
       "      <td>다우기술</td>\n",
       "      <td>[따뜻달달특가] 투썸플레이스-카페라떼(R)</td>\n",
       "      <td>투썸플레이스</td>\n",
       "      <td>2</td>\n",
       "      <td>8200</td>\n",
       "      <td>신용카드</td>\n",
       "      <td>2022-11-08 10:27:29</td>\n",
       "      <td>배송완료</td>\n",
       "      <td>N</td>\n",
       "      <td>NaN</td>\n",
       "      <td>NaN</td>\n",
       "      <td>신용카드</td>\n",
       "    </tr>\n",
       "    <tr>\n",
       "      <th>218594</th>\n",
       "      <td>221108103621476</td>\n",
       "      <td>다우기술</td>\n",
       "      <td>[신세계] 신세계 상품권-1만원권</td>\n",
       "      <td>신세계</td>\n",
       "      <td>1</td>\n",
       "      <td>9600</td>\n",
       "      <td>신용카드</td>\n",
       "      <td>2022-11-08 10:34:01</td>\n",
       "      <td>배송완료</td>\n",
       "      <td>N</td>\n",
       "      <td>NaN</td>\n",
       "      <td>NaN</td>\n",
       "      <td>신용카드</td>\n",
       "    </tr>\n",
       "    <tr>\n",
       "      <th>218595</th>\n",
       "      <td>221108103722743</td>\n",
       "      <td>다우기술</td>\n",
       "      <td>[신세계] 신세계 상품권-1만원권</td>\n",
       "      <td>신세계</td>\n",
       "      <td>1</td>\n",
       "      <td>9600</td>\n",
       "      <td>신용카드</td>\n",
       "      <td>2022-11-08 10:35:02</td>\n",
       "      <td>배송완료</td>\n",
       "      <td>N</td>\n",
       "      <td>NaN</td>\n",
       "      <td>NaN</td>\n",
       "      <td>신용카드</td>\n",
       "    </tr>\n",
       "    <tr>\n",
       "      <th>218598</th>\n",
       "      <td>221108104536307</td>\n",
       "      <td>에이스디포</td>\n",
       "      <td>[스마트 HBM] 아크릴 사인</td>\n",
       "      <td>HB</td>\n",
       "      <td>1</td>\n",
       "      <td>26900</td>\n",
       "      <td>신 + 포</td>\n",
       "      <td>2022-11-08 10:43:15</td>\n",
       "      <td>배송준비</td>\n",
       "      <td>N</td>\n",
       "      <td>NaN</td>\n",
       "      <td>NaN</td>\n",
       "      <td>신용카드</td>\n",
       "    </tr>\n",
       "    <tr>\n",
       "      <th>218600</th>\n",
       "      <td>221108105148171</td>\n",
       "      <td>다우기술</td>\n",
       "      <td>[특별한 크리스마스] 2차-신세계 상품권 모바일 교환권-1만원권</td>\n",
       "      <td>신세계</td>\n",
       "      <td>17</td>\n",
       "      <td>161500</td>\n",
       "      <td>신용카드</td>\n",
       "      <td>2022-11-08 10:49:28</td>\n",
       "      <td>배송완료</td>\n",
       "      <td>N</td>\n",
       "      <td>NaN</td>\n",
       "      <td>NaN</td>\n",
       "      <td>신용카드</td>\n",
       "    </tr>\n",
       "  </tbody>\n",
       "</table>\n",
       "</div>"
      ],
      "text/plain": [
       "                   주문번호    업체명                                  상품명     제조사  \\\n",
       "218591  221108102949623   다우기술              [따뜻달달특가] 투썸플레이스-카페라떼(R)  투썸플레이스   \n",
       "218594  221108103621476   다우기술                   [신세계] 신세계 상품권-1만원권     신세계   \n",
       "218595  221108103722743   다우기술                   [신세계] 신세계 상품권-1만원권     신세계   \n",
       "218598  221108104536307  에이스디포                     [스마트 HBM] 아크릴 사인      HB   \n",
       "218600  221108105148171   다우기술  [특별한 크리스마스] 2차-신세계 상품권 모바일 교환권-1만원권     신세계   \n",
       "\n",
       "        주문수량    판매금액   결제방법                주문일자  처리상태 초도상품 제작문구 내역 할부기간   앞글자  \n",
       "218591     2    8200   신용카드 2022-11-08 10:27:29  배송완료    N     NaN  NaN  신용카드  \n",
       "218594     1    9600   신용카드 2022-11-08 10:34:01  배송완료    N     NaN  NaN  신용카드  \n",
       "218595     1    9600   신용카드 2022-11-08 10:35:02  배송완료    N     NaN  NaN  신용카드  \n",
       "218598     1   26900  신 + 포 2022-11-08 10:43:15  배송준비    N     NaN  NaN  신용카드  \n",
       "218600    17  161500   신용카드 2022-11-08 10:49:28  배송완료    N     NaN  NaN  신용카드  "
      ]
     },
     "execution_count": 6,
     "metadata": {},
     "output_type": "execute_result"
    }
   ],
   "source": [
    "df2[df2['앞글자']=='신용카드'].tail()"
   ]
  },
  {
   "cell_type": "code",
   "execution_count": 7,
   "id": "95afec15",
   "metadata": {
    "scrolled": true
   },
   "outputs": [
    {
     "data": {
      "image/png": "[encoded data removed]",
      "text/plain": [
       "<Figure size 640x480 with 1 Axes>"
      ]
     },
     "metadata": {},
     "output_type": "display_data"
    }
   ],
   "source": [
    "import matplotlib.pyplot as plt\n",
    "plt.rcParams['font.family'] = 'Malgun Gothic'\n",
    "\n",
    "# 결제방법별로 금액 합산\n",
    "payment = df2.groupby('앞글자')['판매금액'].sum()\n",
    "\n",
    "# 파이 차트 그리기\n",
    "custom_colors = ['#1f77b4','green','red','orange']\n",
    "plt.pie(payment, labels=payment.index, autopct='%1.1f%%', startangle=30, colors=custom_colors)\n",
    "plt.title('결제방법별 금액 분포')\n",
    "plt.show()\n"
   ]
  },
  {
   "cell_type": "code",
   "execution_count": 8,
   "id": "9afd3117",
   "metadata": {
    "scrolled": true
   },
   "outputs": [
    {
     "data": {
      "image/png": "[encoded data removed]",
      "text/plain": [
       "<Figure size 640x480 with 1 Axes>"
      ]
     },
     "metadata": {},
     "output_type": "display_data"
    }
   ],
   "source": [
    "# 결제방법별 판매금액 평균 계산\n",
    "average_payment = df2.groupby('앞글자')['판매금액'].mean().reset_index()\n",
    "\n",
    "# 막대그래프 그리기\n",
    "custom_colors = ['#1f77b4', '#ff7f0e', '#2ca02c', '#d62728']\n",
    "plt.bar(average_payment['앞글자'], average_payment['판매금액'], color=custom_colors)\n",
    "plt.title('결제방법별 평균 판매금액')\n",
    "plt.xlabel('결제방법')\n",
    "plt.ylabel('평균 금액')\n",
    "plt.show()"
   ]
  },
  {
   "cell_type": "code",
   "execution_count": 9,
   "id": "e015be53",
   "metadata": {},
   "outputs": [
    {
     "name": "stdout",
     "output_type": "stream",
     "text": [
      "    앞글자        판매금액\n",
      "0  신용카드  1628484.95\n",
      "1   적립금    75614.05\n",
      "2   포인트   220687.91\n",
      "3    현금   332344.23\n"
     ]
    }
   ],
   "source": [
    "# 각 결제방법별로 상위 1000개 행 추출\n",
    "top_10_by_payment_method = df2.groupby('앞글자').apply(lambda group: group.nlargest(1000, '판매금액')).reset_index(drop=True)\n",
    "\n",
    "# 각 결제방법별 '판매금액'의 평균 계산\n",
    "average_sales_by_payment_method = top_10_by_payment_method.groupby('앞글자')['판매금액'].mean().reset_index()\n",
    "\n",
    "# 결과 출력\n",
    "print(average_sales_by_payment_method)\n"
   ]
  },
  {
   "cell_type": "code",
   "execution_count": 10,
   "id": "32f79484",
   "metadata": {},
   "outputs": [
    {
     "name": "stdout",
     "output_type": "stream",
     "text": [
      "    앞글자      판매금액\n",
      "0  신용카드    99.040\n",
      "1   적립금  2215.610\n",
      "2   포인트   100.000\n",
      "3    현금  1900.195\n"
     ]
    }
   ],
   "source": [
    "# 판매금액이 0이 아닌 데이터프레임 생성\n",
    "nz_df2 = df2[df2['판매금액'] != 0]\n",
    "\n",
    "# 각 결제방법별로 하위 1000개 행 추출\n",
    "bottom_10_by_payment_method = nz_df2.groupby('앞글자').apply(lambda group: group.nsmallest(1000, '판매금액')).reset_index(drop=True)\n",
    "\n",
    "# 각 결제방법별 '판매금액'의 평균 계산\n",
    "average_sales_bottom_10_by_payment_method = bottom_10_by_payment_method.groupby('앞글자')['판매금액'].mean().reset_index()\n",
    "\n",
    "# 결과 출력\n",
    "print(average_sales_bottom_10_by_payment_method)"
   ]
  },
  {
   "cell_type": "code",
   "execution_count": 11,
   "id": "7313e612",
   "metadata": {},
   "outputs": [],
   "source": [
    "true_money = df2[df2['처리상태'].isin(['구매확정','배송완료','배송준비','배송중','결제완료'])]"
   ]
  },
  {
   "cell_type": "code",
   "execution_count": 12,
   "id": "0906e372",
   "metadata": {},
   "outputs": [
    {
     "data": {
      "text/plain": [
       "상품명\n",
       "[신세계] 신세계 상품권-4만원권            682444800\n",
       "[스마트 HBE] 학습 전용 태블릿-일반결제      476388000\n",
       "[명절상품권특가] 신세계 상품권 교환권-4만원권    255359300\n",
       "Name: 판매금액, dtype: int64"
      ]
     },
     "execution_count": 12,
     "metadata": {},
     "output_type": "execute_result"
    }
   ],
   "source": [
    "\n",
    "\n",
    "\n",
    "# 상품명별로 금액 합산\n",
    "product = true_money.groupby('상품명')['판매금액'].sum()\n",
    "\n",
    "# 판매금액을 높은 순으로 정렬\n",
    "sorted_product = product.sort_values(ascending=False)\n",
    "sorted_product.head(3)"
   ]
  },
  {
   "cell_type": "raw",
   "id": "d4ab83b4",
   "metadata": {},
   "source": [
    "# '상품명'에 '신세계 상품권'이 포함된 경우 해당 상품을 '신세계 상품권'으로 대체\n",
    "true_money['상품명'] = true_money['상품명'].fillna('').apply(lambda x: '신세계 상품권' if '신세계 상품권' in x else x)\n",
    "true_money['상품명'] = true_money['상품명'].fillna('').apply(lambda x: '학습 전용 태블릿' if '학습 전용 태블릿' in x else x)\n"
   ]
  },
  {
   "cell_type": "code",
   "execution_count": 33,
   "id": "5763821e",
   "metadata": {},
   "outputs": [
    {
     "name": "stdout",
     "output_type": "stream",
     "text": [
      "0.25174771253891676\n"
     ]
    }
   ],
   "source": [
    "new1 = true_money[true_money['상품명']=='[신세계] 신세계 상품권-4만원권']\n",
    "sum_true = true_money['판매금액'].sum()\n",
    "smart_tap = true_money[true_money['상품명']=='[스마트 HBE] 학습 전용 태블릿-일반결제']\n",
    "new2 = true_money[true_money['상품명']=='[명절상품권특가] 신세계 상품권 교환권-4만원권']\n",
    "sum_new2 = new2['판매금액'].sum()\n",
    "sum_tap = smart_tap['판매금액'].sum()\n",
    "sum_new1 = new1['판매금액'].sum()\n",
    "\n",
    "sum3 = sum_new2 + sum_tap + sum_new1\n",
    "print(sum3/sum_true)\n",
    "new_price = new_world.groupby('앞글자')['판매금액'].sum()"
   ]
  },
  {
   "cell_type": "code",
   "execution_count": 26,
   "id": "606df201",
   "metadata": {},
   "outputs": [
    {
     "data": {
      "image/png": "[encoded data removed]",
      "text/plain": [
       "<Figure size 640x480 with 1 Axes>"
      ]
     },
     "metadata": {},
     "output_type": "display_data"
    }
   ],
   "source": [
    "# 파이 차트 그리기\n",
    "custom_colors = ['#1f77b4','green','red','orange']\n",
    "plt.pie(new_price, labels=new_price.index, autopct='%1.1f%%', startangle=30, colors=custom_colors)\n",
    "plt.title('신세계 상품권 결제수단 분포')\n",
    "plt.show()\n"
   ]
  },
  {
   "cell_type": "code",
   "execution_count": 39,
   "id": "3118afb4",
   "metadata": {},
   "outputs": [
    {
     "name": "stderr",
     "output_type": "stream",
     "text": [
      "C:\\Users\\minsu\\AppData\\Local\\Temp\\ipykernel_21876\\3091067221.py:6: SettingWithCopyWarning: \n",
      "A value is trying to be set on a copy of a slice from a DataFrame.\n",
      "Try using .loc[row_indexer,col_indexer] = value instead\n",
      "\n",
      "See the caveats in the documentation: https://pandas.pydata.org/pandas-docs/stable/user_guide/indexing.html#returning-a-view-versus-a-copy\n",
      "  new1['연도'] = new1['주문일자'].dt.year\n",
      "C:\\Users\\minsu\\AppData\\Local\\Temp\\ipykernel_21876\\3091067221.py:7: SettingWithCopyWarning: \n",
      "A value is trying to be set on a copy of a slice from a DataFrame.\n",
      "Try using .loc[row_indexer,col_indexer] = value instead\n",
      "\n",
      "See the caveats in the documentation: https://pandas.pydata.org/pandas-docs/stable/user_guide/indexing.html#returning-a-view-versus-a-copy\n",
      "  smart_tap['연도'] = smart_tap['주문일자'].dt.year\n",
      "C:\\Users\\minsu\\AppData\\Local\\Temp\\ipykernel_21876\\3091067221.py:8: SettingWithCopyWarning: \n",
      "A value is trying to be set on a copy of a slice from a DataFrame.\n",
      "Try using .loc[row_indexer,col_indexer] = value instead\n",
      "\n",
      "See the caveats in the documentation: https://pandas.pydata.org/pandas-docs/stable/user_guide/indexing.html#returning-a-view-versus-a-copy\n",
      "  new2['연도'] = new2['주문일자'].dt.year\n"
     ]
    },
    {
     "data": {
      "image/png": "[encoded data removed]",
      "text/plain": [
       "<Figure size 640x480 with 1 Axes>"
      ]
     },
     "metadata": {},
     "output_type": "display_data"
    }
   ],
   "source": [
    "new1_year = new1.resample('Y', on='주문일자')['판매금액'].sum().reset_index()\n",
    "new2_year = new2.resample('Y', on='주문일자')['판매금액'].sum().reset_index()\n",
    "tap_year = smart_tap.resample('Y', on='주문일자')['판매금액'].sum().reset_index()\n",
    "\n",
    "# 주문일자를 연도로 변경\n",
    "new1['연도'] = new1['주문일자'].dt.year\n",
    "smart_tap['연도'] = smart_tap['주문일자'].dt.year\n",
    "new2['연도'] = new2['주문일자'].dt.year\n",
    "\n",
    "\n",
    "plt.bar(new1['연도'], new1['판매금액'], color = 'red')\n",
    "#그래프 크기 조절\n",
    "\n",
    "\n",
    "\n",
    "plt.title('신세계 상품권 연도별 판매금액')\n",
    "plt.xlabel('연도')\n",
    "plt.ylabel('판매금액')\n",
    "plt.xticks(rotation=45)  # X 축 레이블 회전\n",
    "# X 축 눈금 설정\n",
    "plt.xticks(range(2019,2023))\n",
    "plt.show()"
   ]
  },
  {
   "cell_type": "code",
   "execution_count": 40,
   "id": "f524d261",
   "metadata": {},
   "outputs": [
    {
     "data": {
      "text/plain": [
       "<BarContainer object of 248 artists>"
      ]
     },
     "execution_count": 40,
     "metadata": {},
     "output_type": "execute_result"
    },
    {
     "data": {
      "image/png": "[encoded data removed]",
      "text/plain": [
       "<Figure size 640x480 with 1 Axes>"
      ]
     },
     "metadata": {},
     "output_type": "display_data"
    }
   ],
   "source": [
    "plt.bar(new2['연도'], new2['판매금액'], color = 'red')"
   ]
  },
  {
   "cell_type": "code",
   "execution_count": null,
   "id": "fa8661ed",
   "metadata": {},
   "outputs": [],
   "source": []
  }
 ],
 "metadata": {
  "kernelspec": {
   "display_name": "Python 3 (ipykernel)",
   "language": "python",
   "name": "python3"
  },
  "language_info": {
   "codemirror_mode": {
    "name": "ipython",
    "version": 3
   },
   "file_extension": ".py",
   "mimetype": "text/x-python",
   "name": "python",
   "nbconvert_exporter": "python",
   "pygments_lexer": "ipython3",
   "version": "3.11.5"
  }
 },
 "nbformat": 4,
 "nbformat_minor": 5
}
